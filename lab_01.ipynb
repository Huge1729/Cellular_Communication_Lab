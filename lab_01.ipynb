{
 "cells": [
  {
   "cell_type": "code",
   "execution_count": 1,
   "metadata": {},
   "outputs": [
    {
     "name": "stdout",
     "output_type": "stream",
     "text": [
      "Channel bw = 50\n"
     ]
    }
   ],
   "source": [
    "bw = 33e3\n",
    "single_channel_bw = 25\n",
    "\n",
    "# duplex channel bandwidth\n",
    "duplex_channel_bw = 2 * single_channel_bw\n",
    "print('Channel bw =', duplex_channel_bw)"
   ]
  },
  {
   "cell_type": "code",
   "execution_count": 2,
   "metadata": {},
   "outputs": [
    {
     "name": "stdout",
     "output_type": "stream",
     "text": [
      "Total available channel = 660.0\n"
     ]
    }
   ],
   "source": [
    "# total channel\n",
    "total_channel = bw // duplex_channel_bw\n",
    "print('Total available channel =', total_channel)"
   ]
  },
  {
   "cell_type": "code",
   "execution_count": 3,
   "metadata": {},
   "outputs": [
    {
     "name": "stdout",
     "output_type": "stream",
     "text": [
      "Total Control Channel = 20\n"
     ]
    }
   ],
   "source": [
    "# control channel bandwidth\n",
    "controlChannel_bw = 1000\n",
    "\n",
    "# total control channel\n",
    "total_controlChannel = controlChannel_bw // duplex_channel_bw\n",
    "print('Total Control Channel =', total_controlChannel)"
   ]
  },
  {
   "cell_type": "code",
   "execution_count": 5,
   "metadata": {},
   "outputs": [
    {
     "name": "stdout",
     "output_type": "stream",
     "text": [
      "------------------------------------------------\n",
      "For various cluster size\n",
      "------------------------------------------------\n",
      "Cluster Size = 4\n",
      "Channel per cell = 165.0\n",
      "Control channel = 5\n",
      "Voice channel = 160.0\n",
      "------------------------------------------------\n",
      "Cluster Size = 7\n",
      "Channel per cell = 94.0\n",
      "Control channel = 2\n",
      "Voice channel = 91.0\n",
      "------------------------------------------------\n",
      "Cluster Size = 12\n",
      "Channel per cell = 55.0\n",
      "Control channel = 1\n",
      "Voice channel = 53.0\n",
      "------------------------------------------------\n"
     ]
    }
   ],
   "source": [
    "# Array of different value for N(number of cells)\n",
    "print('------------------------------------------------')\n",
    "print('For various cluster size')\n",
    "print('------------------------------------------------')\n",
    "N = [4, 7, 12]\n",
    "for cluster_size in N:\n",
    "    # cluster size\n",
    "    print('Cluster Size =', cluster_size)\n",
    "\n",
    "    # channel per cells\n",
    "    channel_per_cell = total_channel // cluster_size\n",
    "    print('Channel per cell =', channel_per_cell)\n",
    "\n",
    "    # control channels per cell\n",
    "    controlChannel_per_cell = total_controlChannel // cluster_size\n",
    "    print('Control channel =', controlChannel_per_cell)\n",
    "\n",
    "    # voice channel per cell\n",
    "    voiceChannel = (total_channel - total_controlChannel) // cluster_size\n",
    "    print('Voice channel =', voiceChannel)\n",
    "    print('------------------------------------------------')"
   ]
  }
 ],
 "metadata": {
  "kernelspec": {
   "display_name": "Python 3",
   "language": "python",
   "name": "python3"
  },
  "language_info": {
   "codemirror_mode": {
    "name": "ipython",
    "version": 3
   },
   "file_extension": ".py",
   "mimetype": "text/x-python",
   "name": "python",
   "nbconvert_exporter": "python",
   "pygments_lexer": "ipython3",
   "version": "3.10.11"
  }
 },
 "nbformat": 4,
 "nbformat_minor": 2
}
