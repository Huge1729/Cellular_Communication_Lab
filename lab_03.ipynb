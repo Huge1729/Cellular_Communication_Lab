{
 "cells": [
  {
   "cell_type": "code",
   "execution_count": 1,
   "metadata": {},
   "outputs": [
    {
     "name": "stdout",
     "output_type": "stream",
     "text": [
      "Transmitted Power: 47.0 dBm\n"
     ]
    }
   ],
   "source": [
    "# given\n",
    "import math\n",
    "\n",
    "Pt = 50  # Transmitter Power\n",
    "fc = 900  # Carrier Frequency\n",
    "\n",
    "# a\n",
    "PtdBm = 10 * math.log10(Pt * 1e3)\n",
    "print('Transmitted Power: %.1f dBm' % PtdBm)"
   ]
  },
  {
   "cell_type": "code",
   "execution_count": 2,
   "metadata": {},
   "outputs": [
    {
     "name": "stdout",
     "output_type": "stream",
     "text": [
      "Transmitted Power: 17.0 dBW\n"
     ]
    }
   ],
   "source": [
    "# b\n",
    "PtBW = 10 * math.log10(Pt)\n",
    "print('Transmitted Power: %.1f dBW' % PtBW)"
   ]
  },
  {
   "cell_type": "code",
   "execution_count": 3,
   "metadata": {},
   "outputs": [
    {
     "name": "stdout",
     "output_type": "stream",
     "text": [
      "Received Power: -24.5 dBm\n"
     ]
    }
   ],
   "source": [
    "\n",
    "# received power\n",
    "Gt, Gr, lam, d, L = 1, 1, (1 / 3), 100, 1\n",
    "Pr = (Pt * Gt * Gr * (lam ** 2)) / (((4 * math.pi) ** 2) * (d ** 2) * L)\n",
    "PrdBm = 10 * math.log10(Pr * 1e3)\n",
    "print('Received Power: %.1f dBm' % PrdBm)"
   ]
  },
  {
   "cell_type": "code",
   "execution_count": 4,
   "metadata": {},
   "outputs": [
    {
     "name": "stdout",
     "output_type": "stream",
     "text": [
      "Received Power: -64.5 dBm\n"
     ]
    }
   ],
   "source": [
    "# Pr(10Km)\n",
    "Pr10Km = PrdBm + 20 * math.log10(100 / 10000)\n",
    "print('Received Power: %.1f dBm' % Pr10Km)"
   ]
  }
 ],
 "metadata": {
  "kernelspec": {
   "display_name": "Python 3",
   "language": "python",
   "name": "python3"
  },
  "language_info": {
   "codemirror_mode": {
    "name": "ipython",
    "version": 3
   },
   "file_extension": ".py",
   "mimetype": "text/x-python",
   "name": "python",
   "nbconvert_exporter": "python",
   "pygments_lexer": "ipython3",
   "version": "3.10.11"
  }
 },
 "nbformat": 4,
 "nbformat_minor": 2
}
