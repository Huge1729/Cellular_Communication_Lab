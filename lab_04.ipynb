{
 "cells": [
  {
   "cell_type": "code",
   "execution_count": 1,
   "metadata": {},
   "outputs": [],
   "source": [
    "import math\n",
    "\n",
    "# Given values\n",
    "hre = 2  # Height of the receiving antenna (meters)\n",
    "hte = 100  # Height of the transmitting antenna (meters)\n",
    "fc = 900  # Frequency (MHz)\n",
    "d = 4  # Distance between antennas (kilometers)"
   ]
  },
  {
   "cell_type": "code",
   "execution_count": 2,
   "metadata": {},
   "outputs": [],
   "source": [
    "# Calculate a_hre\n",
    "a_hre = 3.2 * (math.log10(11.75 * hre)) ** 2 - 4.97"
   ]
  },
  {
   "cell_type": "code",
   "execution_count": 3,
   "metadata": {},
   "outputs": [
    {
     "name": "stdout",
     "output_type": "stream",
     "text": [
      "Path loss: 137.29\n"
     ]
    }
   ],
   "source": [
    "# Calculate path loss\n",
    "Lp = 69.55 + 26.16 * math.log10(fc) - 13.82 * math.log10(hte) - a_hre + (44.9 - 6.55 * math.log10(hte)) * math.log10(d)\n",
    "\n",
    "print('Path loss: %.2f' % Lp)"
   ]
  }
 ],
 "metadata": {
  "kernelspec": {
   "display_name": "Python 3",
   "language": "python",
   "name": "python3"
  },
  "language_info": {
   "codemirror_mode": {
    "name": "ipython",
    "version": 3
   },
   "file_extension": ".py",
   "mimetype": "text/x-python",
   "name": "python",
   "nbconvert_exporter": "python",
   "pygments_lexer": "ipython3",
   "version": "3.10.11"
  }
 },
 "nbformat": 4,
 "nbformat_minor": 2
}
